{
 "cells": [
  {
   "cell_type": "code",
   "execution_count": 43,
   "metadata": {
    "collapsed": true
   },
   "outputs": [],
   "source": [
    "import pandas as pd\n",
    "import numpy as np\n",
    "import matplotlib as mp\n",
    "import matplotlib.pyplot as plt\n",
    "%matplotlib inline"
   ]
  },
  {
   "cell_type": "markdown",
   "metadata": {
    "collapsed": false
   },
   "source": [
    "## Time"
   ]
  },
  {
   "cell_type": "code",
   "execution_count": 44,
   "metadata": {
    "collapsed": false
   },
   "outputs": [
    {
     "data": {
      "text/html": [
       "<div>\n",
       "<table border=\"1\" class=\"dataframe\">\n",
       "  <thead>\n",
       "    <tr style=\"text-align: right;\">\n",
       "      <th></th>\n",
       "      <th>3</th>\n",
       "      <th>10</th>\n",
       "      <th>100</th>\n",
       "      <th>500</th>\n",
       "      <th>1000</th>\n",
       "      <th>3000</th>\n",
       "      <th>5000</th>\n",
       "      <th>10000</th>\n",
       "    </tr>\n",
       "  </thead>\n",
       "  <tbody>\n",
       "    <tr>\n",
       "      <th>0</th>\n",
       "      <td>1</td>\n",
       "      <td>3</td>\n",
       "      <td>197</td>\n",
       "      <td>6382</td>\n",
       "      <td>26052</td>\n",
       "      <td>232010</td>\n",
       "      <td>641170</td>\n",
       "      <td>2560642</td>\n",
       "    </tr>\n",
       "    <tr>\n",
       "      <th>1</th>\n",
       "      <td>1</td>\n",
       "      <td>3</td>\n",
       "      <td>197</td>\n",
       "      <td>6133</td>\n",
       "      <td>26074</td>\n",
       "      <td>231678</td>\n",
       "      <td>644554</td>\n",
       "      <td>2550676</td>\n",
       "    </tr>\n",
       "    <tr>\n",
       "      <th>2</th>\n",
       "      <td>1</td>\n",
       "      <td>3</td>\n",
       "      <td>266</td>\n",
       "      <td>6760</td>\n",
       "      <td>26609</td>\n",
       "      <td>231464</td>\n",
       "      <td>711130</td>\n",
       "      <td>2547071</td>\n",
       "    </tr>\n",
       "    <tr>\n",
       "      <th>3</th>\n",
       "      <td>1</td>\n",
       "      <td>3</td>\n",
       "      <td>249</td>\n",
       "      <td>6128</td>\n",
       "      <td>26052</td>\n",
       "      <td>231925</td>\n",
       "      <td>640402</td>\n",
       "      <td>2548438</td>\n",
       "    </tr>\n",
       "    <tr>\n",
       "      <th>4</th>\n",
       "      <td>1</td>\n",
       "      <td>2</td>\n",
       "      <td>202</td>\n",
       "      <td>6213</td>\n",
       "      <td>26103</td>\n",
       "      <td>232081</td>\n",
       "      <td>639428</td>\n",
       "      <td>2546129</td>\n",
       "    </tr>\n",
       "    <tr>\n",
       "      <th>5</th>\n",
       "      <td>1</td>\n",
       "      <td>3</td>\n",
       "      <td>267</td>\n",
       "      <td>7008</td>\n",
       "      <td>26174</td>\n",
       "      <td>256520</td>\n",
       "      <td>644136</td>\n",
       "      <td>2585294</td>\n",
       "    </tr>\n",
       "    <tr>\n",
       "      <th>6</th>\n",
       "      <td>1</td>\n",
       "      <td>3</td>\n",
       "      <td>263</td>\n",
       "      <td>7059</td>\n",
       "      <td>26043</td>\n",
       "      <td>249690</td>\n",
       "      <td>641400</td>\n",
       "      <td>2547442</td>\n",
       "    </tr>\n",
       "    <tr>\n",
       "      <th>7</th>\n",
       "      <td>0</td>\n",
       "      <td>2</td>\n",
       "      <td>197</td>\n",
       "      <td>6236</td>\n",
       "      <td>26096</td>\n",
       "      <td>231577</td>\n",
       "      <td>639890</td>\n",
       "      <td>2542409</td>\n",
       "    </tr>\n",
       "    <tr>\n",
       "      <th>8</th>\n",
       "      <td>0</td>\n",
       "      <td>2</td>\n",
       "      <td>198</td>\n",
       "      <td>6356</td>\n",
       "      <td>26006</td>\n",
       "      <td>230922</td>\n",
       "      <td>636607</td>\n",
       "      <td>2546022</td>\n",
       "    </tr>\n",
       "    <tr>\n",
       "      <th>9</th>\n",
       "      <td>1</td>\n",
       "      <td>2</td>\n",
       "      <td>196</td>\n",
       "      <td>6261</td>\n",
       "      <td>26156</td>\n",
       "      <td>231930</td>\n",
       "      <td>639551</td>\n",
       "      <td>3308303</td>\n",
       "    </tr>\n",
       "  </tbody>\n",
       "</table>\n",
       "</div>"
      ],
      "text/plain": [
       "   3  10  100   500   1000    3000    5000    10000\n",
       "0  1   3  197  6382  26052  232010  641170  2560642\n",
       "1  1   3  197  6133  26074  231678  644554  2550676\n",
       "2  1   3  266  6760  26609  231464  711130  2547071\n",
       "3  1   3  249  6128  26052  231925  640402  2548438\n",
       "4  1   2  202  6213  26103  232081  639428  2546129\n",
       "5  1   3  267  7008  26174  256520  644136  2585294\n",
       "6  1   3  263  7059  26043  249690  641400  2547442\n",
       "7  0   2  197  6236  26096  231577  639890  2542409\n",
       "8  0   2  198  6356  26006  230922  636607  2546022\n",
       "9  1   2  196  6261  26156  231930  639551  3308303"
      ]
     },
     "execution_count": 44,
     "metadata": {},
     "output_type": "execute_result"
    }
   ],
   "source": [
    "time = pd.read_csv('data_2/time.csv',sep=',')\n",
    "del time['Unnamed: 8']\n",
    "time"
   ]
  },
  {
   "cell_type": "code",
   "execution_count": 45,
   "metadata": {
    "collapsed": false
   },
   "outputs": [],
   "source": [
    "timeData=[]\n",
    "for j in time.axes[1]:\n",
    "    tmp=0\n",
    "    for i in range(0,10):\n",
    "        tmp=tmp+time.get_value(i,j)\n",
    "    timeData.append(tmp/10.)"
   ]
  },
  {
   "cell_type": "code",
   "execution_count": 46,
   "metadata": {
    "collapsed": false
   },
   "outputs": [
    {
     "data": {
      "image/png": "[encoded data removed]",
      "text/plain": [
       "<matplotlib.figure.Figure at 0x7f37ce1bc290>"
      ]
     },
     "metadata": {},
     "output_type": "display_data"
    }
   ],
   "source": [
    "x = [3,10,100,500,1000,3000,5000,10000]\n",
    "plt.plot(x,timeData)\n",
    "plt.xlabel(\"size of matrix\")\n",
    "plt.ylabel(\"time\")\n",
    "plt.title('Time of reading')\n",
    "plt.draw()\n",
    "plt.savefig('Graphs/time_of_reading', dpi=200)"
   ]
  },
  {
   "cell_type": "markdown",
   "metadata": {},
   "source": [
    "## Data"
   ]
  },
  {
   "cell_type": "markdown",
   "metadata": {},
   "source": [
    "Threads"
   ]
  },
  {
   "cell_type": "code",
   "execution_count": 47,
   "metadata": {
    "collapsed": false
   },
   "outputs": [
    {
     "data": {
      "text/html": [
       "<div>\n",
       "<table border=\"1\" class=\"dataframe\">\n",
       "  <thead>\n",
       "    <tr style=\"text-align: right;\">\n",
       "      <th></th>\n",
       "      <th>seq</th>\n",
       "      <th>1</th>\n",
       "      <th>2</th>\n",
       "      <th>3</th>\n",
       "      <th>4</th>\n",
       "      <th>6</th>\n",
       "      <th>8</th>\n",
       "      <th>16</th>\n",
       "      <th>24</th>\n",
       "      <th>32</th>\n",
       "    </tr>\n",
       "  </thead>\n",
       "  <tbody>\n",
       "    <tr>\n",
       "      <th>3</th>\n",
       "      <td>0.1</td>\n",
       "      <td>13.8</td>\n",
       "      <td>18.7</td>\n",
       "      <td>25.0</td>\n",
       "      <td>27.9</td>\n",
       "      <td>45.1</td>\n",
       "      <td>44.2</td>\n",
       "      <td>84.3</td>\n",
       "      <td>111.3</td>\n",
       "      <td>153.3</td>\n",
       "    </tr>\n",
       "    <tr>\n",
       "      <th>10</th>\n",
       "      <td>0.2</td>\n",
       "      <td>10.6</td>\n",
       "      <td>15.8</td>\n",
       "      <td>19.5</td>\n",
       "      <td>24.7</td>\n",
       "      <td>41.5</td>\n",
       "      <td>48.5</td>\n",
       "      <td>91.2</td>\n",
       "      <td>117.6</td>\n",
       "      <td>159.9</td>\n",
       "    </tr>\n",
       "    <tr>\n",
       "      <th>100</th>\n",
       "      <td>4.0</td>\n",
       "      <td>19.2</td>\n",
       "      <td>18.8</td>\n",
       "      <td>26.4</td>\n",
       "      <td>30.3</td>\n",
       "      <td>48.5</td>\n",
       "      <td>61.5</td>\n",
       "      <td>87.0</td>\n",
       "      <td>133.7</td>\n",
       "      <td>174.6</td>\n",
       "    </tr>\n",
       "    <tr>\n",
       "      <th>500</th>\n",
       "      <td>101.8</td>\n",
       "      <td>143.1</td>\n",
       "      <td>80.8</td>\n",
       "      <td>66.5</td>\n",
       "      <td>67.7</td>\n",
       "      <td>75.9</td>\n",
       "      <td>106.8</td>\n",
       "      <td>90.1</td>\n",
       "      <td>132.3</td>\n",
       "      <td>165.0</td>\n",
       "    </tr>\n",
       "    <tr>\n",
       "      <th>1000</th>\n",
       "      <td>423.7</td>\n",
       "      <td>517.3</td>\n",
       "      <td>284.0</td>\n",
       "      <td>201.2</td>\n",
       "      <td>161.9</td>\n",
       "      <td>167.2</td>\n",
       "      <td>161.1</td>\n",
       "      <td>255.0</td>\n",
       "      <td>196.9</td>\n",
       "      <td>234.0</td>\n",
       "    </tr>\n",
       "    <tr>\n",
       "      <th>3000</th>\n",
       "      <td>3818.3</td>\n",
       "      <td>4546.0</td>\n",
       "      <td>2417.3</td>\n",
       "      <td>1839.8</td>\n",
       "      <td>1775.7</td>\n",
       "      <td>1296.7</td>\n",
       "      <td>1170.9</td>\n",
       "      <td>1205.4</td>\n",
       "      <td>1188.9</td>\n",
       "      <td>1171.2</td>\n",
       "    </tr>\n",
       "    <tr>\n",
       "      <th>5000</th>\n",
       "      <td>10437.3</td>\n",
       "      <td>12554.0</td>\n",
       "      <td>10112.6</td>\n",
       "      <td>4511.0</td>\n",
       "      <td>3769.3</td>\n",
       "      <td>3273.7</td>\n",
       "      <td>3181.7</td>\n",
       "      <td>3209.2</td>\n",
       "      <td>3269.1</td>\n",
       "      <td>3359.3</td>\n",
       "    </tr>\n",
       "    <tr>\n",
       "      <th>10000</th>\n",
       "      <td>41787.9</td>\n",
       "      <td>50114.8</td>\n",
       "      <td>24970.8</td>\n",
       "      <td>17974.1</td>\n",
       "      <td>13935.2</td>\n",
       "      <td>13004.4</td>\n",
       "      <td>12772.9</td>\n",
       "      <td>12680.3</td>\n",
       "      <td>12675.9</td>\n",
       "      <td>12739.7</td>\n",
       "    </tr>\n",
       "  </tbody>\n",
       "</table>\n",
       "</div>"
      ],
      "text/plain": [
       "           seq        1        2        3        4        6        8       16  \\\n",
       "3          0.1     13.8     18.7     25.0     27.9     45.1     44.2     84.3   \n",
       "10         0.2     10.6     15.8     19.5     24.7     41.5     48.5     91.2   \n",
       "100        4.0     19.2     18.8     26.4     30.3     48.5     61.5     87.0   \n",
       "500      101.8    143.1     80.8     66.5     67.7     75.9    106.8     90.1   \n",
       "1000     423.7    517.3    284.0    201.2    161.9    167.2    161.1    255.0   \n",
       "3000    3818.3   4546.0   2417.3   1839.8   1775.7   1296.7   1170.9   1205.4   \n",
       "5000   10437.3  12554.0  10112.6   4511.0   3769.3   3273.7   3181.7   3209.2   \n",
       "10000  41787.9  50114.8  24970.8  17974.1  13935.2  13004.4  12772.9  12680.3   \n",
       "\n",
       "            24       32  \n",
       "3        111.3    153.3  \n",
       "10       117.6    159.9  \n",
       "100      133.7    174.6  \n",
       "500      132.3    165.0  \n",
       "1000     196.9    234.0  \n",
       "3000    1188.9   1171.2  \n",
       "5000    3269.1   3359.3  \n",
       "10000  12675.9  12739.7  "
      ]
     },
     "execution_count": 47,
     "metadata": {},
     "output_type": "execute_result"
    }
   ],
   "source": [
    "data1 = pd.read_csv('data_1/data1.csv',sep=',')\n",
    "del data1['Unnamed: 10']\n",
    "for i in ['1','2','3','4','5','6','7','8','9','10']:\n",
    "    dataTmp = pd.read_csv('data_1/data'+i+'.csv',sep=',')\n",
    "    del dataTmp['Unnamed: 10']\n",
    "    data = data + dataTmp\n",
    "data1 = data1 / 10\n",
    "data1"
   ]
  },
  {
   "cell_type": "code",
   "execution_count": 48,
   "metadata": {
    "collapsed": false
   },
   "outputs": [],
   "source": [
    "x = [1,2,3,4,6,8,16,24,32]\n",
    "del data1['seq']\n",
    "matrix1 = data1.as_matrix()"
   ]
  },
  {
   "cell_type": "markdown",
   "metadata": {},
   "source": [
    "OpenMP"
   ]
  },
  {
   "cell_type": "code",
   "execution_count": 49,
   "metadata": {
    "collapsed": false
   },
   "outputs": [
    {
     "data": {
      "text/html": [
       "<div>\n",
       "<table border=\"1\" class=\"dataframe\">\n",
       "  <thead>\n",
       "    <tr style=\"text-align: right;\">\n",
       "      <th></th>\n",
       "      <th>seq</th>\n",
       "      <th>1</th>\n",
       "      <th>2</th>\n",
       "      <th>3</th>\n",
       "      <th>4</th>\n",
       "      <th>6</th>\n",
       "      <th>8</th>\n",
       "      <th>16</th>\n",
       "      <th>24</th>\n",
       "      <th>32</th>\n",
       "    </tr>\n",
       "  </thead>\n",
       "  <tbody>\n",
       "    <tr>\n",
       "      <th>3</th>\n",
       "      <td>0.2</td>\n",
       "      <td>0.8</td>\n",
       "      <td>6.3</td>\n",
       "      <td>6.8</td>\n",
       "      <td>9.3</td>\n",
       "      <td>11.5</td>\n",
       "      <td>13.6</td>\n",
       "      <td>41.6</td>\n",
       "      <td>62.7</td>\n",
       "      <td>78.9</td>\n",
       "    </tr>\n",
       "    <tr>\n",
       "      <th>10</th>\n",
       "      <td>0.2</td>\n",
       "      <td>0.6</td>\n",
       "      <td>4.8</td>\n",
       "      <td>6.7</td>\n",
       "      <td>9.5</td>\n",
       "      <td>12.3</td>\n",
       "      <td>16.1</td>\n",
       "      <td>44.3</td>\n",
       "      <td>62.4</td>\n",
       "      <td>80.4</td>\n",
       "    </tr>\n",
       "    <tr>\n",
       "      <th>100</th>\n",
       "      <td>4.0</td>\n",
       "      <td>5.5</td>\n",
       "      <td>7.5</td>\n",
       "      <td>9.8</td>\n",
       "      <td>19.0</td>\n",
       "      <td>19.0</td>\n",
       "      <td>20.9</td>\n",
       "      <td>46.1</td>\n",
       "      <td>68.8</td>\n",
       "      <td>87.2</td>\n",
       "    </tr>\n",
       "    <tr>\n",
       "      <th>500</th>\n",
       "      <td>103.1</td>\n",
       "      <td>122.2</td>\n",
       "      <td>76.7</td>\n",
       "      <td>54.8</td>\n",
       "      <td>51.0</td>\n",
       "      <td>53.1</td>\n",
       "      <td>71.6</td>\n",
       "      <td>122.0</td>\n",
       "      <td>131.2</td>\n",
       "      <td>143.5</td>\n",
       "    </tr>\n",
       "    <tr>\n",
       "      <th>1000</th>\n",
       "      <td>428.5</td>\n",
       "      <td>526.1</td>\n",
       "      <td>276.4</td>\n",
       "      <td>198.2</td>\n",
       "      <td>188.1</td>\n",
       "      <td>161.5</td>\n",
       "      <td>188.8</td>\n",
       "      <td>320.7</td>\n",
       "      <td>206.1</td>\n",
       "      <td>313.9</td>\n",
       "    </tr>\n",
       "    <tr>\n",
       "      <th>3000</th>\n",
       "      <td>3818.3</td>\n",
       "      <td>4645.2</td>\n",
       "      <td>2442.7</td>\n",
       "      <td>1660.0</td>\n",
       "      <td>1244.9</td>\n",
       "      <td>1497.0</td>\n",
       "      <td>1131.7</td>\n",
       "      <td>1582.2</td>\n",
       "      <td>1570.4</td>\n",
       "      <td>1287.5</td>\n",
       "    </tr>\n",
       "    <tr>\n",
       "      <th>5000</th>\n",
       "      <td>10466.8</td>\n",
       "      <td>12860.8</td>\n",
       "      <td>6781.4</td>\n",
       "      <td>4567.2</td>\n",
       "      <td>3447.3</td>\n",
       "      <td>4162.8</td>\n",
       "      <td>3147.3</td>\n",
       "      <td>3479.8</td>\n",
       "      <td>3407.6</td>\n",
       "      <td>3396.8</td>\n",
       "    </tr>\n",
       "    <tr>\n",
       "      <th>10000</th>\n",
       "      <td>41847.2</td>\n",
       "      <td>51363.2</td>\n",
       "      <td>27099.9</td>\n",
       "      <td>18189.7</td>\n",
       "      <td>13778.9</td>\n",
       "      <td>12961.9</td>\n",
       "      <td>12565.0</td>\n",
       "      <td>12875.3</td>\n",
       "      <td>12939.3</td>\n",
       "      <td>12866.9</td>\n",
       "    </tr>\n",
       "  </tbody>\n",
       "</table>\n",
       "</div>"
      ],
      "text/plain": [
       "           seq        1        2        3        4        6        8       16  \\\n",
       "3          0.2      0.8      6.3      6.8      9.3     11.5     13.6     41.6   \n",
       "10         0.2      0.6      4.8      6.7      9.5     12.3     16.1     44.3   \n",
       "100        4.0      5.5      7.5      9.8     19.0     19.0     20.9     46.1   \n",
       "500      103.1    122.2     76.7     54.8     51.0     53.1     71.6    122.0   \n",
       "1000     428.5    526.1    276.4    198.2    188.1    161.5    188.8    320.7   \n",
       "3000    3818.3   4645.2   2442.7   1660.0   1244.9   1497.0   1131.7   1582.2   \n",
       "5000   10466.8  12860.8   6781.4   4567.2   3447.3   4162.8   3147.3   3479.8   \n",
       "10000  41847.2  51363.2  27099.9  18189.7  13778.9  12961.9  12565.0  12875.3   \n",
       "\n",
       "            24       32  \n",
       "3         62.7     78.9  \n",
       "10        62.4     80.4  \n",
       "100       68.8     87.2  \n",
       "500      131.2    143.5  \n",
       "1000     206.1    313.9  \n",
       "3000    1570.4   1287.5  \n",
       "5000    3407.6   3396.8  \n",
       "10000  12939.3  12866.9  "
      ]
     },
     "execution_count": 49,
     "metadata": {},
     "output_type": "execute_result"
    }
   ],
   "source": [
    "data2 = pd.read_csv('data_2/data1.csv',sep=',')\n",
    "del data2['Unnamed: 10']\n",
    "for i in ['1','2','3','4','5','6','7','8','9','10']:\n",
    "    dataTmp = pd.read_csv('data_2/data'+i+'.csv',sep=',')\n",
    "    del dataTmp['Unnamed: 10']\n",
    "    data = data + dataTmp\n",
    "data2 = data2 / 10\n",
    "data2"
   ]
  },
  {
   "cell_type": "code",
   "execution_count": 50,
   "metadata": {
    "collapsed": true
   },
   "outputs": [],
   "source": [
    "x = [1,2,3,4,6,8,16,24,32]\n",
    "del data2['seq']\n",
    "matrix2 = data2.as_matrix()"
   ]
  },
  {
   "cell_type": "code",
   "execution_count": 51,
   "metadata": {
    "collapsed": false
   },
   "outputs": [
    {
     "data": {
      "image/png": "[encoded data removed]",
      "text/plain": [
       "<matplotlib.figure.Figure at 0x7f37cdf0da90>"
      ]
     },
     "metadata": {},
     "output_type": "display_data"
    }
   ],
   "source": [
    "for i in range(0,8):\n",
    "    plt.clf()\n",
    "    plt.subplot(2,2,1)\n",
    "    plt.plot(x,matrix1[i])\n",
    "    plt.title('Threads')\n",
    "    #plt.xlabel(\"number of threads\")\n",
    "    plt.ylabel(\"time\")\n",
    "    plt.subplot(2,2,3)\n",
    "    plt.plot(x,matrix1[i][0]/matrix1[i])\n",
    "    #plt.title(\"size of matrix - \"+time.axes[1][i])\n",
    "    plt.xlabel(\"number of threads\")\n",
    "    plt.ylabel(\"acceleration\")\n",
    "    plt.subplot(2,2,2)\n",
    "    plt.plot(x,matrix2[i])\n",
    "    plt.title('OpenMP')\n",
    "    #plt.xlabel(\"number of threads\")\n",
    "    #plt.ylabel(\"time\")\n",
    "    plt.subplot(2,2,4)\n",
    "    plt.plot(x,matrix2[i][0]/matrix2[i])\n",
    "    #plt.title(\"size of matrix - \"+time.axes[1][i])\n",
    "    plt.xlabel(\"number of threads\")\n",
    "    #plt.ylabel(\"acceleration\")\n",
    "    plt.suptitle(\"size of matrix - \"+time.axes[1][i])\n",
    "    plt.draw()\n",
    "    plt.savefig('Graphs/size='+time.axes[1][i]+'.png', dpi=200)"
   ]
  },
  {
   "cell_type": "code",
   "execution_count": 54,
   "metadata": {
    "collapsed": false
   },
   "outputs": [],
   "source": [
    "matrix=matrix.T"
   ]
  },
  {
   "cell_type": "code",
   "execution_count": 55,
   "metadata": {
    "collapsed": false
   },
   "outputs": [
    {
     "data": {
      "image/png": "[encoded data removed]",
      "text/plain": [
       "<matplotlib.figure.Figure at 0x7f37ce263410>"
      ]
     },
     "metadata": {},
     "output_type": "display_data"
    }
   ],
   "source": [
    "labels = ['1','2','3','4','6','8','16','24','32']\n",
    "x = [3,10,100,500,1000,3000,5000,10000]\n",
    "for i in range(0,9):\n",
    "    plt.plot(x,matrix[i],label=labels[i])\n",
    "    plt.title(\"number of threads\")\n",
    "    plt.xlabel(\"size of matrix\")\n",
    "    plt.ylabel(\"time\")\n",
    "    plt.legend(loc=\"upper left\")\n",
    "plt.draw()\n",
    "plt.savefig('Graphs/threads', dpi=200)"
   ]
  },
  {
   "cell_type": "code",
   "execution_count": null,
   "metadata": {
    "collapsed": true
   },
   "outputs": [],
   "source": []
  }
 ],
 "metadata": {
  "kernelspec": {
   "display_name": "Python [Root]",
   "language": "python",
   "name": "Python [Root]"
  },
  "language_info": {
   "codemirror_mode": {
    "name": "ipython",
    "version": 2
   },
   "file_extension": ".py",
   "mimetype": "text/x-python",
   "name": "python",
   "nbconvert_exporter": "python",
   "pygments_lexer": "ipython2",
   "version": "2.7.12"
  }
 },
 "nbformat": 4,
 "nbformat_minor": 0
}
